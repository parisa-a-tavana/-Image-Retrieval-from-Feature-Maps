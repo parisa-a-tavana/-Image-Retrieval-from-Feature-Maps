{
 "cells": [
  {
   "cell_type": "code",
   "execution_count": 10,
   "id": "c3439108",
   "metadata": {},
   "outputs": [],
   "source": [
    "import random\n",
    "from pathlib import Path\n",
    "import os\n",
    "import pandas as pd"
   ]
  },
  {
   "cell_type": "markdown",
   "id": "e279aa4a",
   "metadata": {},
   "source": [
    "we create a function to move files"
   ]
  },
  {
   "cell_type": "code",
   "execution_count": 7,
   "id": "441082cc",
   "metadata": {},
   "outputs": [],
   "source": [
    "def move_files(old_base_path,new_base_path,selected_names):\n",
    "    for name in selected_names:\n",
    "        old_complete_path=old_base_path+\"\\\\\"+name\n",
    "        new_complete_path=new_base_path+\"\\\\\"+name\n",
    "        Path(old_complete_path).rename(new_complete_path)\n",
    "    "
   ]
  },
  {
   "cell_type": "markdown",
   "id": "9e179a5e",
   "metadata": {},
   "source": [
    "we create a function to create folders with a specific name in a specific path"
   ]
  },
  {
   "cell_type": "code",
   "execution_count": 3,
   "id": "1f3eede8",
   "metadata": {},
   "outputs": [],
   "source": [
    "def create_new_folders(folders_base_path,folders_name):\n",
    "    for folder in folders_name:\n",
    "        complete_path=folders_base_path+\"\\\\\"+folder\n",
    "        os.mkdir(complete_path)"
   ]
  },
  {
   "cell_type": "markdown",
   "id": "caf4c49a",
   "metadata": {},
   "source": [
    "we create a function that gets the name of a class and the path to that class folder. then gets the name of all images, randomly samples 50 images and moves them to the folder in the test path with with the same name as the class, and moves the rest of the images to the corresponding table in the train section"
   ]
  },
  {
   "cell_type": "code",
   "execution_count": 29,
   "id": "0ed443fb",
   "metadata": {},
   "outputs": [],
   "source": [
    "def split_data_one_class(tiny_image_path,trains_path,tests_path,class_name,test_size):\n",
    "    \n",
    "    tiny_images_path_class=os.path.join(tiny_image_path,class_name,\"images\")\n",
    "    train_path_class=os.path.join(trains_path,class_name)\n",
    "    \n",
    "    test_path_class=os.path.join(tests_path,class_name)\n",
    "    \n",
    "    \n",
    "    all_image_names_class=os.listdir(tiny_images_path_class)\n",
    "    test_image_names_class=random.sample(all_image_names_class, test_size)\n",
    "    train_image_names_class=[i for i in all_image_names_class if i not in test_image_names_class]\n",
    "    \n",
    "    move_files(tiny_images_path_class,train_path_class,train_image_names_class)\n",
    "    move_files(tiny_images_path_class,test_path_class,test_image_names_class)\n",
    "    "
   ]
  },
  {
   "cell_type": "markdown",
   "id": "d1b65fe8",
   "metadata": {},
   "source": [
    "we define a function that uses the \"split_data_one_class\" function on all selected classes."
   ]
  },
  {
   "cell_type": "code",
   "execution_count": 30,
   "id": "a931bd60",
   "metadata": {},
   "outputs": [],
   "source": [
    "def split_dataset(tiny_image_path,trains_path,tests_path,class_names,test_size):\n",
    "    for class_name in class_names:\n",
    "        split_data_one_class(tiny_image_path,trains_path,tests_path,class_name,test_size)\n",
    "    "
   ]
  },
  {
   "cell_type": "code",
   "execution_count": 31,
   "id": "7b64e4dc",
   "metadata": {},
   "outputs": [],
   "source": [
    "class_list=[]\n",
    "with open(r\"D:\\Term7\\Intelligent Systems\\project\\tiny-imagenet-200\\wnids.txt\") as file:\n",
    "    for item in file:\n",
    "        class_list.append(item)"
   ]
  },
  {
   "cell_type": "markdown",
   "id": "abe8479b",
   "metadata": {},
   "source": [
    "we randomly sample 20 classes from the list of all classes"
   ]
  },
  {
   "cell_type": "code",
   "execution_count": 32,
   "id": "0f76f101",
   "metadata": {},
   "outputs": [],
   "source": [
    "\n",
    "num_class=20\n",
    "selected_classes=random.sample(class_list, num_class)\n",
    "for i in range(num_class):\n",
    "    selected_classes[i]=selected_classes[i].replace('\\n', '')"
   ]
  },
  {
   "cell_type": "markdown",
   "id": "f6e86883",
   "metadata": {},
   "source": [
    "we create new folders in our test and train folder."
   ]
  },
  {
   "cell_type": "code",
   "execution_count": 33,
   "id": "1df1113f",
   "metadata": {},
   "outputs": [],
   "source": [
    "train_dir=\"D:\\\\Term7\\\\Intelligent Systems\\\\project\\\\tiny-imagenet-200\\\\selected_class_train\"\n",
    "test_dir=\"D:\\\\Term7\\\\Intelligent Systems\\\\project\\\\tiny-imagenet-200\\\\selected_class_test\"\n",
    "tiny_images_dir=\"D:\\\\Term7\\\\Intelligent Systems\\\\project\\\\tiny-imagenet-200\\\\train\""
   ]
  },
  {
   "cell_type": "code",
   "execution_count": 35,
   "id": "11a8d8d9",
   "metadata": {},
   "outputs": [],
   "source": [
    "create_new_folders(test_dir,selected_classes)\n",
    "create_new_folders(train_dir,selected_classes)"
   ]
  },
  {
   "cell_type": "markdown",
   "id": "87972065",
   "metadata": {},
   "source": [
    "we split the test and train data and move them to the corresponding folders"
   ]
  },
  {
   "cell_type": "code",
   "execution_count": 36,
   "id": "6df62536",
   "metadata": {},
   "outputs": [],
   "source": [
    "num_test=50\n",
    "split_dataset(tiny_images_dir,train_dir,test_dir,selected_classes,num_test)"
   ]
  },
  {
   "cell_type": "code",
   "execution_count": 3,
   "id": "a1a664b4",
   "metadata": {},
   "outputs": [],
   "source": [
    "selected_classes=os.listdir(r'D:\\Term7\\Intelligent Systems\\project\\tiny-imagenet-200\\selected_class_test')"
   ]
  },
  {
   "cell_type": "code",
   "execution_count": 7,
   "id": "70d2dc4e",
   "metadata": {},
   "outputs": [],
   "source": [
    "text_path='D:\\Term7\\Intelligent Systems\\final_project\\tiny-imagenet-200\\words.txt'\n",
    "fp = open('D:\\\\Term7\\\\Intelligent Systems\\\\final_project\\\\tiny-imagenet-200\\\\words.txt')\n",
    "data = fp.readlines()\n",
    "\n",
    "# Create dictionary to store img filename (word 0) and corresponding\n",
    "# label (word 1) for every line in the txt file (as key value pair)\n",
    "class_dict = {}\n",
    "for line in data:\n",
    "    words = line.split('\\t')\n",
    "    class_dict[words[0]] = words[1].replace('\\n', '')\n",
    "fp.close()"
   ]
  },
  {
   "cell_type": "code",
   "execution_count": 16,
   "id": "1b7b1773",
   "metadata": {
    "scrolled": false
   },
   "outputs": [
    {
     "name": "stdout",
     "output_type": "stream",
     "text": [
      "selected classes:\n",
      "n02058221 : albatross, mollymawk\n",
      "n02403003 : ox\n",
      "n02669723 : academic gown, academic robe, judge's robe\n",
      "n02699494 : altar\n",
      "n02769748 : backpack, back pack, knapsack, packsack, rucksack, haversack\n",
      "n03201208 : dining table, board\n",
      "n03544143 : hourglass\n",
      "n03637318 : lampshade, lamp shade\n",
      "n03814639 : neck brace\n",
      "n03854065 : organ, pipe organ\n",
      "n04133789 : sandal\n",
      "n04146614 : school bus\n",
      "n04149813 : scoreboard\n",
      "n04251144 : snorkel\n",
      "n04311004 : steel arch bridge\n",
      "n04417672 : thatch, thatched roof\n",
      "n07873807 : pizza, pizza pie\n",
      "n09332890 : lakeside, lakeshore\n",
      "n09428293 : seashore, coast, seacoast, sea-coast\n",
      "n12267677 : acorn\n"
     ]
    }
   ],
   "source": [
    "print(\"selected classes:\")\n",
    "for x in selected_classes:\n",
    "    print(x+\" : \"+class_dict[x])"
   ]
  }
 ],
 "metadata": {
  "kernelspec": {
   "display_name": "Python 3 (ipykernel)",
   "language": "python",
   "name": "python3"
  },
  "language_info": {
   "codemirror_mode": {
    "name": "ipython",
    "version": 3
   },
   "file_extension": ".py",
   "mimetype": "text/x-python",
   "name": "python",
   "nbconvert_exporter": "python",
   "pygments_lexer": "ipython3",
   "version": "3.9.13"
  }
 },
 "nbformat": 4,
 "nbformat_minor": 5
}
