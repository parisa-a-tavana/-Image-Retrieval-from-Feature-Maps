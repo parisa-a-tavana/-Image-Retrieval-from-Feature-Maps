{
  "cells": [
    {
      "cell_type": "code",
      "execution_count": 8,
      "metadata": {
        "id": "LUbaM-pzJykz"
      },
      "outputs": [],
      "source": [
        "import numpy as np\n",
        "import pandas as pd\n",
        "import matplotlib.pyplot as plt\n",
        "from datetime import datetime as dt\n",
        "import torch\n",
        "from torch import optim, nn\n",
        "from torch.utils.data import DataLoader, TensorDataset, Dataset\n",
        "from torchvision.utils import make_grid\n",
        "from torchvision import transforms as T\n",
        "from torchvision import models, datasets\n",
        "import os\n",
        "from random import randint\n",
        "import urllib\n",
        "import zipfile\n",
        "import torchvision\n",
        "import torchvision.transforms as transforms\n",
        "import torch\n",
        "import torch.nn as nn\n",
        "import torch.nn.functional as F\n",
        "import torch.optim as optim\n",
        "import torchvision.models as models\n",
        "from torchsummary import summary\n",
        "import pickle\n",
        "from torchvision.utils import save_image"
      ]
    },
    {
      "cell_type": "code",
      "execution_count": 2,
      "metadata": {
        "colab": {
          "base_uri": "https://localhost:8080/"
        },
        "id": "aGUp8YsdfpA5",
        "outputId": "a2b538c4-f610-44a5-bbd7-2770b5ca9db7"
      },
      "outputs": [
        {
          "output_type": "stream",
          "name": "stdout",
          "text": [
            "Mounted at /content/drive\n"
          ]
        }
      ],
      "source": [
        "from google.colab import drive\n",
        "drive.mount('/content/drive')"
      ]
    },
    {
      "cell_type": "code",
      "execution_count": 13,
      "metadata": {
        "colab": {
          "base_uri": "https://localhost:8080/"
        },
        "id": "OQ-ezO_YWLhD",
        "outputId": "9569ccdc-5bb7-4dbe-d876-175f0f1764db"
      },
      "outputs": [
        {
          "output_type": "execute_result",
          "data": {
            "text/plain": [
              "device(type='cuda')"
            ]
          },
          "metadata": {},
          "execution_count": 13
        }
      ],
      "source": [
        "device = torch.device('cuda' if torch.cuda.is_available() else 'cpu')\n",
        "device"
      ]
    },
    {
      "cell_type": "markdown",
      "metadata": {
        "id": "2-pZGgH-5Iui"
      },
      "source": [
        "# Create Model"
      ]
    },
    {
      "cell_type": "markdown",
      "metadata": {
        "id": "E1Mth75y5Osp"
      },
      "source": [
        "we create a class that inverts the alexnet. we get the layer we want to recreate images as l. we seperate the layers we want and freez the weights. we create 3 models for the 3 layers. after passing the data through the alexnet, we pass its output through the model we defined.\n",
        "\n",
        "if the layer is convolutional, we set the whole model to the selected features. if the layer is fc, we only change the fc layers so that the conv layers would remain unchanged\n",
        "\n"
      ]
    },
    {
      "cell_type": "code",
      "execution_count": 4,
      "metadata": {
        "id": "hFv0iWsP5HrB"
      },
      "outputs": [],
      "source": [
        "class InverseNet(nn.Module):\n",
        "\n",
        "    def __init__(self, l):\n",
        "        super(InverseNet, self).__init__()\n",
        "        self.an = models.alexnet(pretrained=True)\n",
        "        self.cut_layer=l\n",
        "        feats = self.an.features\n",
        "        cl = self.an.classifier\n",
        "        if l <= 5:\n",
        "            split_point = 0\n",
        "            conv_cntr = 0\n",
        "            for lay in feats:\n",
        "                if isinstance(lay, nn.Conv2d):\n",
        "                    conv_cntr += 1\n",
        "                split_point += 1\n",
        "\n",
        "                if conv_cntr == l:\n",
        "                    break\n",
        "                \n",
        "            self.an= nn.Sequential(*list(feats)[:split_point+2])\n",
        "            \n",
        "                \n",
        "        elif l >=6 and l <=8:\n",
        "            split_point = 0\n",
        "            lin_cntr = 5\n",
        "            for lay in feats:\n",
        "                if isinstance(lay, nn.Linear):\n",
        "                    lin_cntr += 1\n",
        "                split_point += 1\n",
        "\n",
        "                if lin_cntr == l:\n",
        "                    break\n",
        "                \n",
        "            self.an.cl = nn.Sequential(*list(cl)[:split_point+1])\n",
        "\n",
        "        # Freeze base network parameters\n",
        "        for param in self.an.parameters():\n",
        "            param.requires_grad = False\n",
        "\n",
        "        self.lin_fc8 = nn.Sequential(nn.Linear(1000, 4096),\n",
        "                                     nn.LeakyReLU(0.2, inplace=True),\n",
        "                                     nn.Linear(4096, 4096),\n",
        "                                     nn.LeakyReLU(0.2, inplace=True),\n",
        "                                     nn.Linear(4096, 2048),\n",
        "                                     nn.LeakyReLU(0.2, inplace=True))\n",
        "        \n",
        "        self.conv_fc8 = nn.Sequential(nn.ConvTranspose2d(128, 128, 5, stride=2, padding=2, output_padding=1),\n",
        "                                      nn.LeakyReLU(0.2, inplace=True),\n",
        "                                      nn.ConvTranspose2d(128, 64, 5, stride=2, padding=2, output_padding=1),\n",
        "                                      nn.LeakyReLU(0.2, inplace=True),\n",
        "                                      nn.ConvTranspose2d(64, 32, 5, stride=2, padding=2, output_padding=1),\n",
        "                                      nn.LeakyReLU(0.2, inplace=True),\n",
        "                                      nn.ConvTranspose2d(32, 16, 5, stride=2, padding=2, output_padding=1),\n",
        "                                      nn.LeakyReLU(0.2, inplace=True),\n",
        "                                      nn.ConvTranspose2d(16, 3, 5, stride=2, padding=2, output_padding=1),\n",
        "                                      nn.LeakyReLU(0.2, inplace=True))\n",
        "        \n",
        "        self.conv_conv5 = nn.Sequential(nn.ConvTranspose2d(256, 128, 3, stride=2, padding=2, output_padding=1),\n",
        "                                      nn.LeakyReLU(0.2, inplace=True),\n",
        "                                      nn.ConvTranspose2d(128, 64, 5, stride=2, padding=2, output_padding=1),\n",
        "                                      nn.LeakyReLU(0.2, inplace=True),\n",
        "                                      nn.ConvTranspose2d(64, 32, 5, stride=2, padding=2, output_padding=1),\n",
        "                                      nn.LeakyReLU(0.2, inplace=True),\n",
        "                                      nn.ConvTranspose2d(32, 16, 5, stride=2, padding=2, output_padding=1),\n",
        "                                      nn.LeakyReLU(0.2, inplace=True),\n",
        "                                      nn.ConvTranspose2d(16, 8, 5, stride=2, padding=2, output_padding=1),\n",
        "                                      nn.LeakyReLU(0.2, inplace=True),\n",
        "                                      nn.ConvTranspose2d(8, 3, 5, stride=2, padding=2, output_padding=1),\n",
        "                                      nn.LeakyReLU(0.2, inplace=True))\n",
        "        \n",
        "        self.conv_conv2 = nn.Sequential(nn.ConvTranspose2d(192, 128, 7, stride=2, padding=2, output_padding=1),\n",
        "                                      nn.LeakyReLU(0.2, inplace=True),\n",
        "                                      nn.ConvTranspose2d(128, 64, 5, stride=2, padding=2, output_padding=1),\n",
        "                                      nn.LeakyReLU(0.2, inplace=True),\n",
        "                                      nn.ConvTranspose2d(64, 32, 5, stride=2, padding=2, output_padding=1),\n",
        "                                      nn.LeakyReLU(0.2, inplace=True),\n",
        "                                      nn.ConvTranspose2d(32, 3, 5, stride=2, padding=2, output_padding=1),\n",
        "                                      nn.LeakyReLU(0.2, inplace=True))\n",
        "    \n",
        "    def forward(self, x):\n",
        "        x = self.an(x)\n",
        "        if self.cut_layer == 5:\n",
        "            x = self.conv_conv5(x)\n",
        "        elif self.cut_layer == 2:\n",
        "            x = self.conv_conv2(x)\n",
        "        elif self.cut_layer == 8:\n",
        "            x = self.lin_fc8(x)\n",
        "            x = x.view(x.size(0), 128, 4, 4)\n",
        "            x = self.conv_fc8(x)\n",
        "        return x\n"
      ]
    },
    {
      "cell_type": "markdown",
      "metadata": {
        "id": "pI9qp-Arj69m"
      },
      "source": [
        "# Create Dataset"
      ]
    },
    {
      "cell_type": "markdown",
      "metadata": {
        "id": "ZFHY5taMAutD"
      },
      "source": [
        "we define a function to transform and label the dataset based on the folder names, and loads batches of data."
      ]
    },
    {
      "cell_type": "code",
      "execution_count": null,
      "metadata": {
        "id": "vTLJZz6aNOfV"
      },
      "outputs": [],
      "source": [
        "def generate_dataloader(data, name,batch_size,input_size):\n",
        "\n",
        "    transform = transforms.Compose([transforms.Resize(input_size),\n",
        "                                    transforms.ToTensor(),\n",
        "                                    transforms.Normalize((0.5, 0.5, 0.5), (0.5, 0.5, 0.5))])\n",
        " \n",
        "    dataset = datasets.ImageFolder(data, transform=transform)\n",
        "    dataloader = DataLoader(dataset, batch_size=batch_size,shuffle=(name==\"train\"))\n",
        "    \n",
        "    return dataloader"
      ]
    },
    {
      "cell_type": "markdown",
      "source": [
        "for the selceted images for part C, we extract and inverse the features using the trained models and save the output image"
      ],
      "metadata": {
        "id": "1G40MsS2-jjN"
      }
    },
    {
      "cell_type": "code",
      "source": [
        "def test_image(model,folder_path,all_data,name):\n",
        "  for i, data in enumerate(all_data):\n",
        "    img, cl = data\n",
        "    img, cl = img.to(device), cl.to(device)\n",
        "    out = model(img)\n",
        "\n",
        "    image_name='original'+str(i)+'.png'\n",
        "    image_path=os.path.join(folder_path,image_name)\n",
        "    out_name=name+'_recreat'+str(i)+'.png'\n",
        "    out_path=os.path.join(folder_path,out_name)\n",
        "\n",
        "    save_image(img, image_path)\n",
        "    save_image(out, out_path)"
      ],
      "metadata": {
        "id": "rKhfV2QccL4C"
      },
      "execution_count": null,
      "outputs": []
    },
    {
      "cell_type": "markdown",
      "metadata": {
        "id": "rT38PGiakBGr"
      },
      "source": [
        "# Train model"
      ]
    },
    {
      "cell_type": "markdown",
      "metadata": {
        "id": "XYLG7jAM68eR"
      },
      "source": [
        "**Loading data**"
      ]
    },
    {
      "cell_type": "code",
      "execution_count": null,
      "metadata": {
        "id": "ikeltwg0dpra"
      },
      "outputs": [],
      "source": [
        "train_path='/content/drive/MyDrive/Untitled folder/selected_class_train'\n",
        "test_path='/content/drive/MyDrive/selected_class_test'\n",
        "batch_size = 128\n",
        "input_size=(128,128)\n",
        "train_data = generate_dataloader(train_path, \"train\",batch_size,input_size)\n",
        "test_data = generate_dataloader(test_path, \"test\", batch_size,input_size)"
      ]
    },
    {
      "cell_type": "code",
      "execution_count": null,
      "metadata": {
        "id": "MedOxUMIvIbv"
      },
      "outputs": [],
      "source": [
        "show_path='/content/drive/MyDrive/Untitled folder/selected_images'\n",
        "data_show=generate_dataloader(show_path, \"show\",batch_size,input_size)"
      ]
    },
    {
      "cell_type": "markdown",
      "metadata": {
        "id": "P42nTg3u7tDC"
      },
      "source": [
        "**Conv2**"
      ]
    },
    {
      "cell_type": "code",
      "execution_count": 14,
      "metadata": {
        "id": "Ad-crhR-DX0b"
      },
      "outputs": [],
      "source": [
        "model_conv2 = InverseNet(2)\n",
        "model_conv2.to(device)\n",
        "criterion = nn.MSELoss()\n",
        "optimizer = optim.Adam(filter(lambda x: x.requires_grad, model_conv2.parameters()))"
      ]
    },
    {
      "cell_type": "code",
      "source": [
        "print(\"conv2\")\n",
        "summary(model_conv2,(3,128,128))"
      ],
      "metadata": {
        "id": "510vIFloCrFs",
        "outputId": "83164a09-7214-4a78-bc11-65a3c272c031",
        "colab": {
          "base_uri": "https://localhost:8080/"
        }
      },
      "execution_count": 16,
      "outputs": [
        {
          "output_type": "stream",
          "name": "stdout",
          "text": [
            "conv2\n",
            "----------------------------------------------------------------\n",
            "        Layer (type)               Output Shape         Param #\n",
            "================================================================\n",
            "            Conv2d-1           [-1, 64, 31, 31]          23,296\n",
            "              ReLU-2           [-1, 64, 31, 31]               0\n",
            "         MaxPool2d-3           [-1, 64, 15, 15]               0\n",
            "            Conv2d-4          [-1, 192, 15, 15]         307,392\n",
            "              ReLU-5          [-1, 192, 15, 15]               0\n",
            "         MaxPool2d-6            [-1, 192, 7, 7]               0\n",
            "   ConvTranspose2d-7          [-1, 128, 16, 16]       1,204,352\n",
            "         LeakyReLU-8          [-1, 128, 16, 16]               0\n",
            "   ConvTranspose2d-9           [-1, 64, 32, 32]         204,864\n",
            "        LeakyReLU-10           [-1, 64, 32, 32]               0\n",
            "  ConvTranspose2d-11           [-1, 32, 64, 64]          51,232\n",
            "        LeakyReLU-12           [-1, 32, 64, 64]               0\n",
            "  ConvTranspose2d-13          [-1, 3, 128, 128]           2,403\n",
            "        LeakyReLU-14          [-1, 3, 128, 128]               0\n",
            "================================================================\n",
            "Total params: 1,793,539\n",
            "Trainable params: 1,462,851\n",
            "Non-trainable params: 330,688\n",
            "----------------------------------------------------------------\n",
            "Input size (MB): 0.19\n",
            "Forward/backward pass size (MB): 6.03\n",
            "Params size (MB): 6.84\n",
            "Estimated Total Size (MB): 13.06\n",
            "----------------------------------------------------------------\n"
          ]
        }
      ]
    },
    {
      "cell_type": "code",
      "execution_count": null,
      "metadata": {
        "id": "FG3aLk8mJiZb"
      },
      "outputs": [],
      "source": [
        "epochs=10\n",
        "all_train_loss=[]\n",
        "all_test_loss=[]\n",
        "for e in range(epochs):\n",
        "        loss_train = 0.0\n",
        "        loss_test = 0.0\n",
        "        for i, data in enumerate(train_data):\n",
        "            img, cl = data\n",
        "            img, cl = img.to(device), cl.to(device)\n",
        "            optimizer.zero_grad()\n",
        "            out = model_conv2(img)         \n",
        "            loss = criterion(out, img)\n",
        "            loss.backward()\n",
        "            loss_train += loss.item()\n",
        "            optimizer.step()\n",
        "            print(i)\n",
        "            print(\"{0:.4}\".format(loss))\n",
        "            \n",
        "        all_train_loss.append(loss_train/len(train_data))\n",
        "        for i, data in enumerate(test_data):\n",
        "            img, cl = data\n",
        "            img, cl = img.to(device), cl.to(device)\n",
        "            out = model_conv2(img)         \n",
        "            loss = criterion(out, img)\n",
        "            print(i)\n",
        "            print(\"{0:.4}\".format(loss))\n",
        "            loss_test += loss.item()\n",
        "        all_test_loss.append(loss_test/len(test_data))\n",
        "        print(\"##################################\")\n",
        "        print(\"epoch: \"+str(e))\n",
        "        print(\"train_loss {0:.4}\".format(loss_train/len(train_data)))\n",
        "        print(\"test_loss {0:.4}\".format(loss_test/len(test_data)))\n",
        "        print(\"##################################\")\n",
        "        \n",
        "\n",
        "\n",
        "\n",
        "            "
      ]
    },
    {
      "cell_type": "code",
      "execution_count": null,
      "metadata": {
        "id": "EtvV7laYbSde"
      },
      "outputs": [],
      "source": [
        "\n",
        "model_conv2_path='/content/drive/MyDrive/model_conv2/conv2.pth'\n",
        "torch.save({\n",
        "            'epoch': epochs,\n",
        "            'model_state_dict': model_conv2.state_dict(),\n",
        "            'optimizer_state_dict': optimizer.state_dict(),\n",
        "            'loss': loss\n",
        "            }, model_conv2_path)\n",
        "\n",
        "\n",
        "with open('/content/drive/MyDrive/model_conv2/conv2_train_loss.pkl', 'wb') as f:\n",
        "    pickle.dump(all_train_loss, f)\n",
        "\n",
        "with open('/content/drive/MyDrive/model_conv2/conv2_test_loss.pkl', 'wb') as f:\n",
        "    pickle.dump(all_test_loss, f)"
      ]
    },
    {
      "cell_type": "markdown",
      "source": [
        "**Conv5**"
      ],
      "metadata": {
        "id": "o0NzeYEKcvpE"
      }
    },
    {
      "cell_type": "code",
      "execution_count": 17,
      "metadata": {
        "id": "X60qbWnaBdyn",
        "colab": {
          "base_uri": "https://localhost:8080/"
        },
        "outputId": "9a625ad1-e049-4354-d0a2-999eeb1827fc"
      },
      "outputs": [
        {
          "output_type": "stream",
          "name": "stderr",
          "text": [
            "/usr/local/lib/python3.8/dist-packages/torchvision/models/_utils.py:208: UserWarning: The parameter 'pretrained' is deprecated since 0.13 and may be removed in the future, please use 'weights' instead.\n",
            "  warnings.warn(\n",
            "/usr/local/lib/python3.8/dist-packages/torchvision/models/_utils.py:223: UserWarning: Arguments other than a weight enum or `None` for 'weights' are deprecated since 0.13 and may be removed in the future. The current behavior is equivalent to passing `weights=AlexNet_Weights.IMAGENET1K_V1`. You can also use `weights=AlexNet_Weights.DEFAULT` to get the most up-to-date weights.\n",
            "  warnings.warn(msg)\n"
          ]
        }
      ],
      "source": [
        "model_conv5 = InverseNet(5)\n",
        "model_conv5.to(device)\n",
        "criterion = nn.MSELoss()\n",
        "optimizer = optim.Adam(filter(lambda x: x.requires_grad, model_conv5.parameters()))"
      ]
    },
    {
      "cell_type": "code",
      "source": [
        "print(\"conv5\")\n",
        "summary(model_conv5,(3,128,128))"
      ],
      "metadata": {
        "id": "KN6ZlrLND0lU",
        "outputId": "53dfa1f0-30f9-47d0-e94e-1d4727fd2b10",
        "colab": {
          "base_uri": "https://localhost:8080/"
        }
      },
      "execution_count": 18,
      "outputs": [
        {
          "output_type": "stream",
          "name": "stdout",
          "text": [
            "conv5\n",
            "----------------------------------------------------------------\n",
            "        Layer (type)               Output Shape         Param #\n",
            "================================================================\n",
            "            Conv2d-1           [-1, 64, 31, 31]          23,296\n",
            "              ReLU-2           [-1, 64, 31, 31]               0\n",
            "         MaxPool2d-3           [-1, 64, 15, 15]               0\n",
            "            Conv2d-4          [-1, 192, 15, 15]         307,392\n",
            "              ReLU-5          [-1, 192, 15, 15]               0\n",
            "         MaxPool2d-6            [-1, 192, 7, 7]               0\n",
            "            Conv2d-7            [-1, 384, 7, 7]         663,936\n",
            "              ReLU-8            [-1, 384, 7, 7]               0\n",
            "            Conv2d-9            [-1, 256, 7, 7]         884,992\n",
            "             ReLU-10            [-1, 256, 7, 7]               0\n",
            "           Conv2d-11            [-1, 256, 7, 7]         590,080\n",
            "             ReLU-12            [-1, 256, 7, 7]               0\n",
            "        MaxPool2d-13            [-1, 256, 3, 3]               0\n",
            "  ConvTranspose2d-14            [-1, 128, 4, 4]         295,040\n",
            "        LeakyReLU-15            [-1, 128, 4, 4]               0\n",
            "  ConvTranspose2d-16             [-1, 64, 8, 8]         204,864\n",
            "        LeakyReLU-17             [-1, 64, 8, 8]               0\n",
            "  ConvTranspose2d-18           [-1, 32, 16, 16]          51,232\n",
            "        LeakyReLU-19           [-1, 32, 16, 16]               0\n",
            "  ConvTranspose2d-20           [-1, 16, 32, 32]          12,816\n",
            "        LeakyReLU-21           [-1, 16, 32, 32]               0\n",
            "  ConvTranspose2d-22            [-1, 8, 64, 64]           3,208\n",
            "        LeakyReLU-23            [-1, 8, 64, 64]               0\n",
            "  ConvTranspose2d-24          [-1, 3, 128, 128]             603\n",
            "        LeakyReLU-25          [-1, 3, 128, 128]               0\n",
            "================================================================\n",
            "Total params: 3,037,459\n",
            "Trainable params: 567,763\n",
            "Non-trainable params: 2,469,696\n",
            "----------------------------------------------------------------\n",
            "Input size (MB): 0.19\n",
            "Forward/backward pass size (MB): 4.19\n",
            "Params size (MB): 11.59\n",
            "Estimated Total Size (MB): 15.96\n",
            "----------------------------------------------------------------\n"
          ]
        }
      ]
    },
    {
      "cell_type": "code",
      "source": [
        "epochs=15\n",
        "all_train_loss=[]\n",
        "all_test_loss=[]\n",
        "for e in range(epochs):\n",
        "        loss_train = 0.0\n",
        "        loss_test = 0.0\n",
        "        for i, data in enumerate(train_data):\n",
        "            img, cl = data\n",
        "            img, cl = img.to(device), cl.to(device)\n",
        "            optimizer.zero_grad()\n",
        "            out = model_conv5(img)         \n",
        "            loss = criterion(out, img)\n",
        "            loss.backward()\n",
        "            loss_train += loss.item()\n",
        "            optimizer.step()\n",
        "            print(i)\n",
        "            print(\"{0:.4}\".format(loss))\n",
        "            \n",
        "        all_train_loss.append(loss_train/len(train_data))\n",
        "        for i, data in enumerate(test_data):\n",
        "            img, cl = data\n",
        "            img, cl = img.to(device), cl.to(device)\n",
        "            out = model_conv5(img)         \n",
        "            loss = criterion(out, img)\n",
        "            print(i)\n",
        "            print(\"{0:.4}\".format(loss))\n",
        "            loss_test += loss.item()\n",
        "        all_test_loss.append(loss_test/len(test_data))\n",
        "        print(\"##################################\")\n",
        "        print(\"epoch: \"+str(e))\n",
        "        print(\"train_loss {0:.4}\".format(loss_train/len(train_data)))\n",
        "        print(\"test_loss {0:.4}\".format(loss_test/len(test_data)))\n",
        "        print(\"##################################\")\n",
        "        \n",
        "\n",
        "\n",
        "\n",
        "            "
      ],
      "metadata": {
        "id": "YV0GBQ-mc93-"
      },
      "execution_count": null,
      "outputs": []
    },
    {
      "cell_type": "code",
      "source": [
        "model_conv5_path='/content/drive/MyDrive/model_conv5/conv5.pth'\n",
        "torch.save({\n",
        "            'epoch': epochs,\n",
        "            'model_state_dict': model_conv5.state_dict(),\n",
        "            'optimizer_state_dict': optimizer.state_dict(),\n",
        "            'loss': loss\n",
        "            }, model_conv5_path)\n",
        "\n",
        "\n",
        "with open('/content/drive/MyDrive/model_conv5/conv5_train_loss.pkl', 'wb') as f:\n",
        "    pickle.dump(all_train_loss, f)\n",
        "\n",
        "with open('/content/drive/MyDrive/model_conv5/conv5_test_loss.pkl', 'wb') as f:\n",
        "    pickle.dump(all_test_loss, f)"
      ],
      "metadata": {
        "id": "VinbQ2iZgVhj"
      },
      "execution_count": null,
      "outputs": []
    },
    {
      "cell_type": "markdown",
      "source": [
        "**FC8**"
      ],
      "metadata": {
        "id": "askOCyOYh1Gg"
      }
    },
    {
      "cell_type": "code",
      "source": [
        "model_fc8 = InverseNet(8)\n",
        "model_fc8.to(device)\n",
        "criterion = nn.MSELoss()\n",
        "optimizer = optim.Adam(filter(lambda x: x.requires_grad, model_fc8.parameters()))"
      ],
      "metadata": {
        "id": "r7dD7t9Rh3Ak"
      },
      "execution_count": 19,
      "outputs": []
    },
    {
      "cell_type": "code",
      "source": [
        "print(\"fc8\")\n",
        "summary(model_fc8,(3,128,128))"
      ],
      "metadata": {
        "id": "pLisJoDYEOn8",
        "outputId": "500fb84d-c495-4020-b799-9c0313f304e7",
        "colab": {
          "base_uri": "https://localhost:8080/"
        }
      },
      "execution_count": 20,
      "outputs": [
        {
          "output_type": "stream",
          "name": "stdout",
          "text": [
            "fc8\n",
            "----------------------------------------------------------------\n",
            "        Layer (type)               Output Shape         Param #\n",
            "================================================================\n",
            "            Conv2d-1           [-1, 64, 31, 31]          23,296\n",
            "              ReLU-2           [-1, 64, 31, 31]               0\n",
            "         MaxPool2d-3           [-1, 64, 15, 15]               0\n",
            "            Conv2d-4          [-1, 192, 15, 15]         307,392\n",
            "              ReLU-5          [-1, 192, 15, 15]               0\n",
            "         MaxPool2d-6            [-1, 192, 7, 7]               0\n",
            "            Conv2d-7            [-1, 384, 7, 7]         663,936\n",
            "              ReLU-8            [-1, 384, 7, 7]               0\n",
            "            Conv2d-9            [-1, 256, 7, 7]         884,992\n",
            "             ReLU-10            [-1, 256, 7, 7]               0\n",
            "           Conv2d-11            [-1, 256, 7, 7]         590,080\n",
            "             ReLU-12            [-1, 256, 7, 7]               0\n",
            "        MaxPool2d-13            [-1, 256, 3, 3]               0\n",
            "AdaptiveAvgPool2d-14            [-1, 256, 6, 6]               0\n",
            "          Dropout-15                 [-1, 9216]               0\n",
            "          Dropout-16                 [-1, 9216]               0\n",
            "           Linear-17                 [-1, 4096]      37,752,832\n",
            "           Linear-18                 [-1, 4096]      37,752,832\n",
            "             ReLU-19                 [-1, 4096]               0\n",
            "             ReLU-20                 [-1, 4096]               0\n",
            "          Dropout-21                 [-1, 4096]               0\n",
            "          Dropout-22                 [-1, 4096]               0\n",
            "           Linear-23                 [-1, 4096]      16,781,312\n",
            "           Linear-24                 [-1, 4096]      16,781,312\n",
            "             ReLU-25                 [-1, 4096]               0\n",
            "             ReLU-26                 [-1, 4096]               0\n",
            "           Linear-27                 [-1, 1000]       4,097,000\n",
            "           Linear-28                 [-1, 1000]       4,097,000\n",
            "          AlexNet-29                 [-1, 1000]               0\n",
            "           Linear-30                 [-1, 4096]       4,100,096\n",
            "        LeakyReLU-31                 [-1, 4096]               0\n",
            "           Linear-32                 [-1, 4096]      16,781,312\n",
            "        LeakyReLU-33                 [-1, 4096]               0\n",
            "           Linear-34                 [-1, 2048]       8,390,656\n",
            "        LeakyReLU-35                 [-1, 2048]               0\n",
            "  ConvTranspose2d-36            [-1, 128, 8, 8]         409,728\n",
            "        LeakyReLU-37            [-1, 128, 8, 8]               0\n",
            "  ConvTranspose2d-38           [-1, 64, 16, 16]         204,864\n",
            "        LeakyReLU-39           [-1, 64, 16, 16]               0\n",
            "  ConvTranspose2d-40           [-1, 32, 32, 32]          51,232\n",
            "        LeakyReLU-41           [-1, 32, 32, 32]               0\n",
            "  ConvTranspose2d-42           [-1, 16, 64, 64]          12,816\n",
            "        LeakyReLU-43           [-1, 16, 64, 64]               0\n",
            "  ConvTranspose2d-44          [-1, 3, 128, 128]           1,203\n",
            "        LeakyReLU-45          [-1, 3, 128, 128]               0\n",
            "================================================================\n",
            "Total params: 149,683,891\n",
            "Trainable params: 29,951,907\n",
            "Non-trainable params: 119,731,984\n",
            "----------------------------------------------------------------\n",
            "Input size (MB): 0.19\n",
            "Forward/backward pass size (MB): 5.79\n",
            "Params size (MB): 571.00\n",
            "Estimated Total Size (MB): 576.98\n",
            "----------------------------------------------------------------\n"
          ]
        }
      ]
    },
    {
      "cell_type": "code",
      "source": [
        "epochs=20\n",
        "all_train_loss=[]\n",
        "all_test_loss=[]\n",
        "for e in range(epochs):\n",
        "        loss_train = 0.0\n",
        "        loss_test = 0.0\n",
        "        for i, data in enumerate(train_data):\n",
        "            img, cl = data\n",
        "            img, cl = img.to(device), cl.to(device)\n",
        "            optimizer.zero_grad()\n",
        "            out = model_fc8(img)         \n",
        "            loss = criterion(out, img)\n",
        "            loss.backward()\n",
        "            loss_train += loss.item()\n",
        "            optimizer.step()\n",
        "            print(i)\n",
        "            print(\"{0:.4}\".format(loss))\n",
        "            \n",
        "        all_train_loss.append(loss_train/len(train_data))\n",
        "        for i, data in enumerate(test_data):\n",
        "            img, cl = data\n",
        "            img, cl = img.to(device), cl.to(device)\n",
        "            out = model_fc8(img)         \n",
        "            loss = criterion(out, img)\n",
        "            print(i)\n",
        "            print(\"{0:.4}\".format(loss))\n",
        "            loss_test += loss.item()\n",
        "        all_test_loss.append(loss_test/len(test_data))\n",
        "        print(\"##################################\")\n",
        "        print(\"epoch: \"+str(e))\n",
        "        print(\"train_loss {0:.4}\".format(loss_train/len(train_data)))\n",
        "        print(\"test_loss {0:.4}\".format(loss_test/len(test_data)))\n",
        "        print(\"##################################\")\n",
        "        \n",
        "\n",
        "\n",
        "\n",
        "            "
      ],
      "metadata": {
        "id": "8ELzKE9Ah_Rr"
      },
      "execution_count": null,
      "outputs": []
    },
    {
      "cell_type": "code",
      "source": [
        "model_fc8_path='/content/drive/MyDrive/model_fc8/fc8.pth'\n",
        "torch.save({\n",
        "            'epoch': epochs,\n",
        "            'model_state_dict': model_fc8.state_dict(),\n",
        "            'optimizer_state_dict': optimizer.state_dict(),\n",
        "            'loss': loss\n",
        "            }, model_fc8_path)\n",
        "\n",
        "\n",
        "with open('/content/drive/MyDrive/model_fc8/fc8_train_loss.pkl', 'wb') as f:\n",
        "    pickle.dump(all_train_loss, f)\n",
        "\n",
        "with open('/content/drive/MyDrive/model_fc8/fc8_test_loss.pkl', 'wb') as f:\n",
        "    pickle.dump(all_test_loss, f)"
      ],
      "metadata": {
        "id": "HeANLppVt2Fl"
      },
      "execution_count": null,
      "outputs": []
    },
    {
      "cell_type": "markdown",
      "source": [
        "#B"
      ],
      "metadata": {
        "id": "wftqqs3JuZcg"
      }
    },
    {
      "cell_type": "code",
      "source": [
        "with open('/content/drive/MyDrive/model_conv2/conv2_train_loss.pkl', 'rb') as f:\n",
        "      conv2_train_loss=pickle.load( f)\n",
        "\n",
        "with open('/content/drive/MyDrive/model_conv2/conv2_test_loss.pkl', 'rb') as f:\n",
        "      conv2_test_loss=pickle.load( f)   \n",
        "\n",
        "with open('/content/drive/MyDrive/model_conv5/conv5_train_loss.pkl', 'rb') as f:\n",
        "      conv5_train_loss=pickle.load( f)\n",
        "\n",
        "with open('/content/drive/MyDrive/model_conv5/conv5_test_loss.pkl', 'rb') as f:\n",
        "      conv5_test_loss=pickle.load( f) \n",
        "\n",
        "with open('/content/drive/MyDrive/model_fc8/fc8_train_loss.pkl', 'rb') as f:\n",
        "      fc8_train_loss=pickle.load( f)\n",
        "\n",
        "with open('/content/drive/MyDrive/model_fc8/fc8_test_loss.pkl', 'rb') as f:\n",
        "      fc8_test_loss=pickle.load( f) "
      ],
      "metadata": {
        "id": "NsdvnR8Iue3u"
      },
      "execution_count": 3,
      "outputs": []
    },
    {
      "cell_type": "code",
      "source": [
        "def show_results( all_loss_train, all_loss_test, model_name):\n",
        "  \n",
        "\n",
        "  n=len(all_loss_test)\n",
        "  plt.figure(figsize=(n*8, n*6)) \n",
        "  for i in range(n):\n",
        "      plt.subplot(3, 2, 2*i+1)\n",
        "      plt.plot(all_loss_train[i])\n",
        "      plt.xlabel('Epoch')\n",
        "      plt.ylabel('L2 Loss')\n",
        "      plt.title('Training Loss vs Epoch in '+model_name[i])\n",
        "      \n",
        "\n",
        "      plt.subplot(3, 2, 2*i+2)\n",
        "      plt.plot(all_loss_test[i])\n",
        "      plt.xlabel('Epoch')\n",
        "      plt.ylabel('L2 Loss')\n",
        "      plt.title('Evaluation Loss vs Epoch in '+model_name[i])\n",
        "  \n",
        "  plt.suptitle('Comparing Training and Evaluation Loss vs Epoch in Different Models ', fontsize = 15)\n",
        "      \n",
        "\n"
      ],
      "metadata": {
        "id": "7MEZVNN0vgqJ"
      },
      "execution_count": 4,
      "outputs": []
    },
    {
      "cell_type": "code",
      "source": [
        "all_loss_train=[conv2_train_loss, conv5_train_loss, fc8_train_loss]\n",
        "all_loss_test=[conv2_test_loss, conv5_test_loss, fc8_test_loss]\n",
        "model_name=['Conv2', 'Conv5', 'Fc8']"
      ],
      "metadata": {
        "id": "iXqp0jTSzDaL"
      },
      "execution_count": 5,
      "outputs": []
    },
    {
      "cell_type": "code",
      "source": [
        "show_results( all_loss_train, all_loss_test, model_name)"
      ],
      "metadata": {
        "id": "dYa--PsWzR8V"
      },
      "execution_count": null,
      "outputs": []
    },
    {
      "cell_type": "code",
      "source": [
        "train_conv2_ss=sum(conv2_train_loss[7:10])/3\n",
        "valid_conv2_ss=sum(conv2_test_loss[7:10])/3\n",
        "\n",
        "train_conv5_ss=sum(conv5_train_loss[12:15])/3\n",
        "valid_conv5_ss=sum(conv5_test_loss[12:15])/3\n",
        "\n",
        "train_fc8_ss=sum(fc8_train_loss[17:20])/3\n",
        "valid_fc8_ss=sum(fc8_test_loss[17:20])/3\n",
        "\n",
        "df=pd.DataFrame({\"layer\":[\"conv2d\",\"conv5d\",\"fc8\"],\"train error\":[train_conv2_ss, train_conv5_ss, train_fc8_ss],\n",
        "                 \"valid error\":[valid_conv2_ss, valid_conv5_ss, valid_fc8_ss]})\n",
        "df"
      ],
      "metadata": {
        "id": "Gz5raKaQb5Mb",
        "outputId": "a0fb92c5-c269-4732-91ab-0e5832d867cd",
        "colab": {
          "base_uri": "https://localhost:8080/",
          "height": 143
        }
      },
      "execution_count": 6,
      "outputs": [
        {
          "output_type": "execute_result",
          "data": {
            "text/plain": [
              "    layer  train error  valid error\n",
              "0  conv2d     0.049827     0.053309\n",
              "1  conv5d     0.116861     0.141264\n",
              "2     fc8     0.175442     0.195052"
            ],
            "text/html": [
              "\n",
              "  <div id=\"df-23a0faa7-4aa2-4ce8-900d-a4d0403f8031\">\n",
              "    <div class=\"colab-df-container\">\n",
              "      <div>\n",
              "<style scoped>\n",
              "    .dataframe tbody tr th:only-of-type {\n",
              "        vertical-align: middle;\n",
              "    }\n",
              "\n",
              "    .dataframe tbody tr th {\n",
              "        vertical-align: top;\n",
              "    }\n",
              "\n",
              "    .dataframe thead th {\n",
              "        text-align: right;\n",
              "    }\n",
              "</style>\n",
              "<table border=\"1\" class=\"dataframe\">\n",
              "  <thead>\n",
              "    <tr style=\"text-align: right;\">\n",
              "      <th></th>\n",
              "      <th>layer</th>\n",
              "      <th>train error</th>\n",
              "      <th>valid error</th>\n",
              "    </tr>\n",
              "  </thead>\n",
              "  <tbody>\n",
              "    <tr>\n",
              "      <th>0</th>\n",
              "      <td>conv2d</td>\n",
              "      <td>0.049827</td>\n",
              "      <td>0.053309</td>\n",
              "    </tr>\n",
              "    <tr>\n",
              "      <th>1</th>\n",
              "      <td>conv5d</td>\n",
              "      <td>0.116861</td>\n",
              "      <td>0.141264</td>\n",
              "    </tr>\n",
              "    <tr>\n",
              "      <th>2</th>\n",
              "      <td>fc8</td>\n",
              "      <td>0.175442</td>\n",
              "      <td>0.195052</td>\n",
              "    </tr>\n",
              "  </tbody>\n",
              "</table>\n",
              "</div>\n",
              "      <button class=\"colab-df-convert\" onclick=\"convertToInteractive('df-23a0faa7-4aa2-4ce8-900d-a4d0403f8031')\"\n",
              "              title=\"Convert this dataframe to an interactive table.\"\n",
              "              style=\"display:none;\">\n",
              "        \n",
              "  <svg xmlns=\"http://www.w3.org/2000/svg\" height=\"24px\"viewBox=\"0 0 24 24\"\n",
              "       width=\"24px\">\n",
              "    <path d=\"M0 0h24v24H0V0z\" fill=\"none\"/>\n",
              "    <path d=\"M18.56 5.44l.94 2.06.94-2.06 2.06-.94-2.06-.94-.94-2.06-.94 2.06-2.06.94zm-11 1L8.5 8.5l.94-2.06 2.06-.94-2.06-.94L8.5 2.5l-.94 2.06-2.06.94zm10 10l.94 2.06.94-2.06 2.06-.94-2.06-.94-.94-2.06-.94 2.06-2.06.94z\"/><path d=\"M17.41 7.96l-1.37-1.37c-.4-.4-.92-.59-1.43-.59-.52 0-1.04.2-1.43.59L10.3 9.45l-7.72 7.72c-.78.78-.78 2.05 0 2.83L4 21.41c.39.39.9.59 1.41.59.51 0 1.02-.2 1.41-.59l7.78-7.78 2.81-2.81c.8-.78.8-2.07 0-2.86zM5.41 20L4 18.59l7.72-7.72 1.47 1.35L5.41 20z\"/>\n",
              "  </svg>\n",
              "      </button>\n",
              "      \n",
              "  <style>\n",
              "    .colab-df-container {\n",
              "      display:flex;\n",
              "      flex-wrap:wrap;\n",
              "      gap: 12px;\n",
              "    }\n",
              "\n",
              "    .colab-df-convert {\n",
              "      background-color: #E8F0FE;\n",
              "      border: none;\n",
              "      border-radius: 50%;\n",
              "      cursor: pointer;\n",
              "      display: none;\n",
              "      fill: #1967D2;\n",
              "      height: 32px;\n",
              "      padding: 0 0 0 0;\n",
              "      width: 32px;\n",
              "    }\n",
              "\n",
              "    .colab-df-convert:hover {\n",
              "      background-color: #E2EBFA;\n",
              "      box-shadow: 0px 1px 2px rgba(60, 64, 67, 0.3), 0px 1px 3px 1px rgba(60, 64, 67, 0.15);\n",
              "      fill: #174EA6;\n",
              "    }\n",
              "\n",
              "    [theme=dark] .colab-df-convert {\n",
              "      background-color: #3B4455;\n",
              "      fill: #D2E3FC;\n",
              "    }\n",
              "\n",
              "    [theme=dark] .colab-df-convert:hover {\n",
              "      background-color: #434B5C;\n",
              "      box-shadow: 0px 1px 3px 1px rgba(0, 0, 0, 0.15);\n",
              "      filter: drop-shadow(0px 1px 2px rgba(0, 0, 0, 0.3));\n",
              "      fill: #FFFFFF;\n",
              "    }\n",
              "  </style>\n",
              "\n",
              "      <script>\n",
              "        const buttonEl =\n",
              "          document.querySelector('#df-23a0faa7-4aa2-4ce8-900d-a4d0403f8031 button.colab-df-convert');\n",
              "        buttonEl.style.display =\n",
              "          google.colab.kernel.accessAllowed ? 'block' : 'none';\n",
              "\n",
              "        async function convertToInteractive(key) {\n",
              "          const element = document.querySelector('#df-23a0faa7-4aa2-4ce8-900d-a4d0403f8031');\n",
              "          const dataTable =\n",
              "            await google.colab.kernel.invokeFunction('convertToInteractive',\n",
              "                                                     [key], {});\n",
              "          if (!dataTable) return;\n",
              "\n",
              "          const docLinkHtml = 'Like what you see? Visit the ' +\n",
              "            '<a target=\"_blank\" href=https://colab.research.google.com/notebooks/data_table.ipynb>data table notebook</a>'\n",
              "            + ' to learn more about interactive tables.';\n",
              "          element.innerHTML = '';\n",
              "          dataTable['output_type'] = 'display_data';\n",
              "          await google.colab.output.renderOutput(dataTable, element);\n",
              "          const docLink = document.createElement('div');\n",
              "          docLink.innerHTML = docLinkHtml;\n",
              "          element.appendChild(docLink);\n",
              "        }\n",
              "      </script>\n",
              "    </div>\n",
              "  </div>\n",
              "  "
            ]
          },
          "metadata": {},
          "execution_count": 6
        }
      ]
    },
    {
      "cell_type": "markdown",
      "source": [
        "# C"
      ],
      "metadata": {
        "id": "qmJOKXBc5FoN"
      }
    },
    {
      "cell_type": "markdown",
      "source": [
        "we create a dataset from the chosen images. we set the batch size to 1"
      ],
      "metadata": {
        "id": "5dzmKXfCC-1N"
      }
    },
    {
      "cell_type": "code",
      "source": [
        "show_path='/content/drive/MyDrive/chosen_images'\n",
        "data_show=generate_dataloader(show_path, \"show\",1,input_size)"
      ],
      "metadata": {
        "id": "8wZ2WylxyLL5"
      },
      "execution_count": null,
      "outputs": []
    },
    {
      "cell_type": "code",
      "source": [
        "name=\"conv2\"\n",
        "con2_path='/content/drive/MyDrive/conv2_image'\n",
        "test_image(model_conv2,con2_path,data_show,name)"
      ],
      "metadata": {
        "id": "8EZsLy6byMT6"
      },
      "execution_count": null,
      "outputs": []
    },
    {
      "cell_type": "code",
      "source": [
        "name=\"conv5\"\n",
        "con5_path='/content/drive/MyDrive/conv5_image'\n",
        "test_image(model_conv5,con5_path,data_show,name)"
      ],
      "metadata": {
        "id": "0rHQhZ8QzOKg"
      },
      "execution_count": null,
      "outputs": []
    },
    {
      "cell_type": "code",
      "source": [
        "name=\"fc8\"\n",
        "fc8_path='/content/drive/MyDrive/fc8_image'\n",
        "test_image(model_fc8,fc8_path,data_show,name)"
      ],
      "metadata": {
        "id": "KrDWq9DWzjcJ"
      },
      "execution_count": null,
      "outputs": []
    }
  ],
  "metadata": {
    "accelerator": "GPU",
    "colab": {
      "collapsed_sections": [
        "pI9qp-Arj69m"
      ],
      "provenance": []
    },
    "gpuClass": "standard",
    "kernelspec": {
      "display_name": "Python 3",
      "name": "python3"
    },
    "language_info": {
      "name": "python"
    }
  },
  "nbformat": 4,
  "nbformat_minor": 0
}